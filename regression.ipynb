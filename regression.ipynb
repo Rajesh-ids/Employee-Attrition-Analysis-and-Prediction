{
 "cells": [
  {
   "cell_type": "code",
   "execution_count": 3,
   "id": "179478b3",
   "metadata": {},
   "outputs": [],
   "source": [
    "import pandas as pd\n",
    "from sklearn.tree import DecisionTreeClassifier\n",
    "from sklearn.metrics import accuracy_score, classification_report\n",
    "from sklearn.model_selection import GridSearchCV\n",
    "from sklearn.model_selection import train_test_split"
   ]
  },
  {
   "cell_type": "code",
   "execution_count": 2,
   "id": "0a62c768",
   "metadata": {},
   "outputs": [
    {
     "name": "stderr",
     "output_type": "stream",
     "text": [
      "<>:1: SyntaxWarning: invalid escape sequence '\\p'\n",
      "<>:1: SyntaxWarning: invalid escape sequence '\\p'\n",
      "C:\\Users\\Lenovo\\AppData\\Local\\Temp\\ipykernel_17680\\3430794873.py:1: SyntaxWarning: invalid escape sequence '\\p'\n",
      "  data = pd.read_excel(\"D:\\project\\EmployeeAttrition\\Employee-Attrition.xlsx\")\n"
     ]
    }
   ],
   "source": [
    "data = pd.read_excel(\"D:\\project\\EmployeeAttrition\\Employee-Attrition.xlsx\")"
   ]
  },
  {
   "cell_type": "markdown",
   "id": "84f5fcc5",
   "metadata": {},
   "source": [
    "predicting_rating\n"
   ]
  },
  {
   "cell_type": "code",
   "execution_count": 4,
   "id": "5d15aef5",
   "metadata": {},
   "outputs": [
    {
     "name": "stdout",
     "output_type": "stream",
     "text": [
      "0.7585034013605442\n",
      "              precision    recall  f1-score   support\n",
      "\n",
      "           3       0.85      0.86      0.86       251\n",
      "           4       0.15      0.14      0.14        43\n",
      "\n",
      "    accuracy                           0.76       294\n",
      "   macro avg       0.50      0.50      0.50       294\n",
      "weighted avg       0.75      0.76      0.75       294\n",
      "\n"
     ]
    }
   ],
   "source": [
    "\n",
    "x = data[['YearsAtCompany','Education','YearsInCurrentRole','YearsWithCurrManager','YearsSinceLastPromotion','JobInvolvement']]\n",
    "\n",
    "y = data['PerformanceRating']\n",
    "\n",
    "decisionmodel = DecisionTreeClassifier()\n",
    "\n",
    "x_train,x_test,y_train,y_test = train_test_split(x,y,test_size=0.2,random_state=42)\n",
    "\n",
    "decisionmodel.fit(x_train,y_train)\n",
    "\n",
    "y_pred = decisionmodel.predict(x_test)\n",
    "\n",
    "print(accuracy_score(y_test,y_pred))\n",
    "print(classification_report(y_test,y_pred))"
   ]
  },
  {
   "cell_type": "code",
   "execution_count": 5,
   "id": "6f4075f8",
   "metadata": {},
   "outputs": [
    {
     "name": "stdout",
     "output_type": "stream",
     "text": [
      "Model saved as performance_rating_model1.pkl ✅\n"
     ]
    }
   ],
   "source": [
    "import pickle\n",
    "\n",
    "# Save to file\n",
    "with open('performance_rating1.pkl', 'wb') as file:\n",
    "    pickle.dump(decisionmodel, file)\n",
    "\n",
    "print(\"Model saved as performance_rating_model1.pkl ✅\")"
   ]
  },
  {
   "cell_type": "code",
   "execution_count": 7,
   "id": "f1e5dac6",
   "metadata": {},
   "outputs": [
    {
     "name": "stdout",
     "output_type": "stream",
     "text": [
      "0.7653061224489796\n",
      "              precision    recall  f1-score   support\n",
      "\n",
      "           0       0.89      0.84      0.86       255\n",
      "           1       0.22      0.31      0.26        39\n",
      "\n",
      "    accuracy                           0.77       294\n",
      "   macro avg       0.55      0.57      0.56       294\n",
      "weighted avg       0.80      0.77      0.78       294\n",
      "\n",
      "[[213  42]\n",
      " [ 27  12]]\n"
     ]
    }
   ],
   "source": [
    "from sklearn.tree import DecisionTreeClassifier\n",
    "from sklearn.preprocessing import LabelEncoder\n",
    "from sklearn.metrics import classification_report, accuracy_score, confusion_matrix\n",
    "from sklearn.model_selection import GridSearchCV\n",
    "from sklearn.model_selection import train_test_split\n",
    "\n",
    "\n",
    "\n",
    "x = data[['JobSatisfaction','OverTime','Education','JobLevel','YearsAtCompany','YearsInCurrentRole','TotalWorkingYears']]\n",
    "cols = ['JobSatisfaction','OverTime','Education','JobLevel','YearsAtCompany','YearsInCurrentRole','TotalWorkingYears','Attrition']\n",
    "y = data['Attrition']\n",
    "\n",
    "\n",
    "le = LabelEncoder()\n",
    "data[cols] = data[cols].apply(le.fit_transform)\n",
    "\n",
    "x_train,x_test,y_train,y_test = train_test_split(x,y,test_size=0.2,random_state=42)\n",
    "\n",
    "dt=DecisionTreeClassifier()\n",
    "dt.fit(x_train,y_train)\n",
    "y_pred=dt.predict(x_test)\n",
    "\n",
    "\n",
    "print(accuracy_score(y_test, y_pred))\n",
    "print(classification_report(y_test, y_pred))\n",
    "print(confusion_matrix(y_test, y_pred))\n"
   ]
  },
  {
   "cell_type": "code",
   "execution_count": 8,
   "id": "ebee321b",
   "metadata": {},
   "outputs": [
    {
     "name": "stdout",
     "output_type": "stream",
     "text": [
      "0.8333333333333334\n",
      "              precision    recall  f1-score   support\n",
      "\n",
      "           0       0.94      0.88      0.91       272\n",
      "           1       0.15      0.27      0.20        22\n",
      "\n",
      "    accuracy                           0.83       294\n",
      "   macro avg       0.55      0.58      0.55       294\n",
      "weighted avg       0.88      0.83      0.85       294\n",
      "\n",
      "[[239  33]\n",
      " [ 16   6]]\n",
      "Best parameters from GridSearchCV {'criterion': 'entropy', 'max_depth': 15, 'min_samples_leaf': 2, 'min_samples_split': 10}\n",
      "Best accuracy from GridSearchCV 0.8486260367832672\n",
      "\n",
      "Grid Search CV Classification Report:\n",
      "               precision    recall  f1-score   support\n",
      "\n",
      "           0       0.88      0.97      0.92       255\n",
      "           1       0.38      0.13      0.19        39\n",
      "\n",
      "    accuracy                           0.86       294\n",
      "   macro avg       0.63      0.55      0.56       294\n",
      "weighted avg       0.81      0.86      0.82       294\n",
      "\n"
     ]
    }
   ],
   "source": [
    "from sklearn.ensemble import RandomForestClassifier\n",
    "\n",
    "\n",
    "x = data[['JobSatisfaction','OverTime','Education','JobLevel','YearsAtCompany','YearsInCurrentRole','TotalWorkingYears']]\n",
    "cols = ['JobSatisfaction','OverTime','Education','JobLevel','YearsAtCompany','YearsInCurrentRole','TotalWorkingYears']\n",
    "y = data['Attrition']\n",
    "\n",
    "\n",
    "le = LabelEncoder()\n",
    "data[cols] = data[cols].apply(le.fit_transform)\n",
    "\n",
    "x_train,x_test,y_train,y_test = train_test_split(x,y,test_size=0.2,random_state=42)\n",
    "\n",
    "dt = RandomForestClassifier()\n",
    "dt.fit(x_train,y_train)\n",
    "y_pred = dt.predict(x_test)\n",
    "from sklearn.metrics import accuracy_score, classification_report, confusion_matrix\n",
    "randomforest = accuracy_score(y_pred,y_test)\n",
    "print(accuracy_score(y_pred,y_test))\n",
    "print(classification_report(y_pred,y_test))\n",
    "print(confusion_matrix(y_pred,y_test))\n",
    "\n",
    "model = RandomForestClassifier()\n",
    "param_grid = {\n",
    "   'criterion': ['gini', 'entropy','log_loss'],\n",
    "   'max_depth': [5, 10, 15, None],\n",
    "   'min_samples_split': [2, 5, 10],\n",
    "   'min_samples_leaf': [1, 2, 4]\n",
    "}\n",
    "gridcv = GridSearchCV(model,param_grid=param_grid,cv=5,scoring='accuracy',n_jobs=-1)\n",
    "gridcv.fit(x_train,y_train)\n",
    "y_pred = gridcv.predict(x_test)\n",
    "print(\"Best parameters from GridSearchCV\",gridcv.best_params_)\n",
    "print(\"Best accuracy from GridSearchCV\",gridcv.best_score_)\n",
    "best_model_grid = gridcv.best_estimator_\n",
    "y_pred_grid = best_model_grid.predict(x_test)\n",
    "randomforest1 = gridcv.best_score_\n",
    "# Performance Metrics\n",
    "print(\"\\nGrid Search CV Classification Report:\\n\", classification_report(y_test, y_pred))\n"
   ]
  },
  {
   "cell_type": "code",
   "execution_count": 9,
   "id": "be8156a8",
   "metadata": {},
   "outputs": [
    {
     "name": "stdout",
     "output_type": "stream",
     "text": [
      "Model saved as attrition rate.pkl ✅\n"
     ]
    }
   ],
   "source": [
    "import pickle\n",
    "\n",
    "# Save to file\n",
    "with open('Attrition_rate1.pkl', 'wb') as file:\n",
    "    pickle.dump(dt, file)\n",
    "\n",
    "print(\"Model saved as attrition rate.pkl ✅\")"
   ]
  },
  {
   "cell_type": "code",
   "execution_count": 10,
   "id": "db87d338",
   "metadata": {},
   "outputs": [
    {
     "name": "stderr",
     "output_type": "stream",
     "text": [
      "c:\\Users\\Lenovo\\anaconda3\\Lib\\site-packages\\sklearn\\base.py:493: UserWarning: X does not have valid feature names, but RandomForestClassifier was fitted with feature names\n",
      "  warnings.warn(\n"
     ]
    }
   ],
   "source": [
    "with open('Attrition_rate1.pkl', 'rb') as file:\n",
    "    loaded_dump = pickle.load(file)\n",
    "prediction=loaded_dump.predict([[1,1,3,3,6,6,7]])"
   ]
  },
  {
   "cell_type": "code",
   "execution_count": 11,
   "id": "3aee55e9",
   "metadata": {},
   "outputs": [
    {
     "name": "stdout",
     "output_type": "stream",
     "text": [
      "[-1.63240068e-01  3.74781849e-03  1.50685467e-01  6.13301038e-05\n",
      "  2.30912454e-01 -2.42620680e-03]\n",
      "-0.37886588781287056\n",
      "0.458913797017086\n"
     ]
    }
   ],
   "source": [
    "features = data[['JobLevel','TotalWorkingYears','YearsInCurrentRole','MonthlyIncome','YearsAtCompany','YearsWithCurrManager']]\n",
    "target = data['YearsSinceLastPromotion']\n",
    "\n",
    "x=features\n",
    "y=target\n",
    "\n",
    "x_train,x_test,y_train,y_test = train_test_split(x,y,test_size=0.2,random_state=42)\n",
    "\n",
    "from sklearn.linear_model import LinearRegression\n",
    "linearmodel = LinearRegression()\n",
    "linearmodel.fit(x_train,y_train)\n",
    "print(linearmodel.coef_)\n",
    "print(linearmodel.intercept_)\n",
    "print(linearmodel.score(x_test,y_test))"
   ]
  },
  {
   "cell_type": "code",
   "execution_count": 12,
   "id": "57cc564c",
   "metadata": {},
   "outputs": [
    {
     "name": "stdout",
     "output_type": "stream",
     "text": [
      "Model saved as performance_rating_model1.pkl ✅\n"
     ]
    }
   ],
   "source": [
    "import pickle\n",
    "\n",
    "with open(\"EmployeePromotionLikelihood1.pkl\",'wb') as file:\n",
    "          pickle.dump(linearmodel,file)\n",
    "print(\"Model saved as performance_rating_model1.pkl ✅\")"
   ]
  },
  {
   "cell_type": "code",
   "execution_count": null,
   "id": "5a05d7eb",
   "metadata": {},
   "outputs": [],
   "source": []
  },
  {
   "cell_type": "code",
   "execution_count": null,
   "id": "ee0d7120",
   "metadata": {},
   "outputs": [],
   "source": []
  },
  {
   "cell_type": "code",
   "execution_count": null,
   "id": "3f1d0bd2",
   "metadata": {},
   "outputs": [],
   "source": []
  },
  {
   "cell_type": "code",
   "execution_count": null,
   "id": "3bb6bace",
   "metadata": {},
   "outputs": [],
   "source": []
  }
 ],
 "metadata": {
  "kernelspec": {
   "display_name": "base",
   "language": "python",
   "name": "python3"
  },
  "language_info": {
   "codemirror_mode": {
    "name": "ipython",
    "version": 3
   },
   "file_extension": ".py",
   "mimetype": "text/x-python",
   "name": "python",
   "nbconvert_exporter": "python",
   "pygments_lexer": "ipython3",
   "version": "3.12.7"
  }
 },
 "nbformat": 4,
 "nbformat_minor": 5
}
